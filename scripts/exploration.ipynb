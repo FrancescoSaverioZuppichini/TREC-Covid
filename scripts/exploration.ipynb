{
 "cells": [
  {
   "cell_type": "code",
   "execution_count": 2,
   "metadata": {},
   "outputs": [],
   "source": [
    "import pandas as pd"
   ]
  },
  {
   "cell_type": "code",
   "execution_count": 8,
   "metadata": {},
   "outputs": [
    {
     "output_type": "execute_result",
     "data": {
      "text/plain": "['4', '15', '16', '24', '32']"
     },
     "metadata": {},
     "execution_count": 8
    }
   ],
   "source": [
    "df = pd.read_csv('../dataset/metadata-tommaso-index-cord19-2020-05-19-bm25.csv')\n",
    "\n",
    "df['topicids'][3].split(' ')"
   ]
  },
  {
   "cell_type": "code",
   "execution_count": 10,
   "metadata": {},
   "outputs": [
    {
     "output_type": "execute_result",
     "data": {
      "text/plain": "   Unnamed: 0  cord_uid                                       sha source_x  \\\n0           0  f73c639r  def41c08c3cb1b3752bcff34d3aed7f8486e1c86      PMC   \n1           1  1qgpa45q  f5ae3f66face323615df39d838e056ab5fcc98df      PMC   \n2           2  1qgpa45q  f5ae3f66face323615df39d838e056ab5fcc98df      PMC   \n3           3  d1pd09zj  1cee4a0d0e823379ec34a462a04561bf4cd736a2      PMC   \n4           4  d1pd09zj  1cee4a0d0e823379ec34a462a04561bf4cd736a2      PMC   \n\n                                               title  \\\n0  Aortic volume determines global end-diastolic ...   \n1  Whole genome sequencing and phylogenetic analy...   \n2  Whole genome sequencing and phylogenetic analy...   \n3  Synthetic carbohydrate-based vaccines: challen...   \n4  Synthetic carbohydrate-based vaccines: challen...   \n\n                         doi       pmcid   pubmed_id license  \\\n0  10.1186/s40635-019-0284-8  PMC6940405  31897796.0   cc-by   \n1  10.1186/s12864-019-6400-z  PMC6941262  31898474.0   cc-by   \n2  10.1186/s12864-019-6400-z  PMC6941262  31898474.0   cc-by   \n3  10.1186/s12929-019-0591-0  PMC6941340  31900143.0   cc-by   \n4  10.1186/s12929-019-0591-0  PMC6941340  31900143.0   cc-by   \n\n                                            abstract  ...  \\\n0  BACKGROUND: Global end-diastolic volume (GEDV)...  ...   \n1  BACKGROUND: Human metapneumovirus (HMPV) is an...  ...   \n2  BACKGROUND: Human metapneumovirus (HMPV) is an...  ...   \n3  Glycoconjugate vaccines based on bacterial cap...  ...   \n4  Glycoconjugate vaccines based on bacterial cap...  ...   \n\n                                 pmc_json_files  \\\n0  document_parses/pmc_json/PMC6940405.xml.json   \n1  document_parses/pmc_json/PMC6941262.xml.json   \n2  document_parses/pmc_json/PMC6941262.xml.json   \n3  document_parses/pmc_json/PMC6941340.xml.json   \n4  document_parses/pmc_json/PMC6941340.xml.json   \n\n                                                 url s2_id  topicid  Q0  \\\n0  https://www.ncbi.nlm.nih.gov/pmc/articles/PMC6...   NaN     21.0  Q0   \n1  https://www.ncbi.nlm.nih.gov/pmc/articles/PMC6...   NaN     34.0  Q0   \n2  https://www.ncbi.nlm.nih.gov/pmc/articles/PMC6...   NaN     36.0  Q0   \n3  https://www.ncbi.nlm.nih.gov/pmc/articles/PMC6...   NaN      4.0  Q0   \n4  https://www.ncbi.nlm.nih.gov/pmc/articles/PMC6...   NaN     15.0  Q0   \n\n      docid    rank     score                      run_tag       topicids  \n0  f73c639r   157.0  0.009511  reciprocal_rank_fusion_k=60             21  \n1  1qgpa45q  2523.0  0.000967  reciprocal_rank_fusion_k=60          34 36  \n2  1qgpa45q   406.0  0.005180  reciprocal_rank_fusion_k=60          34 36  \n3  d1pd09zj  1861.0  0.001295  reciprocal_rank_fusion_k=60  4 15 16 24 32  \n4  d1pd09zj  2069.0  0.001261  reciprocal_rank_fusion_k=60  4 15 16 24 32  \n\n[5 rows x 27 columns]",
      "text/html": "<div>\n<style scoped>\n    .dataframe tbody tr th:only-of-type {\n        vertical-align: middle;\n    }\n\n    .dataframe tbody tr th {\n        vertical-align: top;\n    }\n\n    .dataframe thead th {\n        text-align: right;\n    }\n</style>\n<table border=\"1\" class=\"dataframe\">\n  <thead>\n    <tr style=\"text-align: right;\">\n      <th></th>\n      <th>Unnamed: 0</th>\n      <th>cord_uid</th>\n      <th>sha</th>\n      <th>source_x</th>\n      <th>title</th>\n      <th>doi</th>\n      <th>pmcid</th>\n      <th>pubmed_id</th>\n      <th>license</th>\n      <th>abstract</th>\n      <th>...</th>\n      <th>pmc_json_files</th>\n      <th>url</th>\n      <th>s2_id</th>\n      <th>topicid</th>\n      <th>Q0</th>\n      <th>docid</th>\n      <th>rank</th>\n      <th>score</th>\n      <th>run_tag</th>\n      <th>topicids</th>\n    </tr>\n  </thead>\n  <tbody>\n    <tr>\n      <th>0</th>\n      <td>0</td>\n      <td>f73c639r</td>\n      <td>def41c08c3cb1b3752bcff34d3aed7f8486e1c86</td>\n      <td>PMC</td>\n      <td>Aortic volume determines global end-diastolic ...</td>\n      <td>10.1186/s40635-019-0284-8</td>\n      <td>PMC6940405</td>\n      <td>31897796.0</td>\n      <td>cc-by</td>\n      <td>BACKGROUND: Global end-diastolic volume (GEDV)...</td>\n      <td>...</td>\n      <td>document_parses/pmc_json/PMC6940405.xml.json</td>\n      <td>https://www.ncbi.nlm.nih.gov/pmc/articles/PMC6...</td>\n      <td>NaN</td>\n      <td>21.0</td>\n      <td>Q0</td>\n      <td>f73c639r</td>\n      <td>157.0</td>\n      <td>0.009511</td>\n      <td>reciprocal_rank_fusion_k=60</td>\n      <td>21</td>\n    </tr>\n    <tr>\n      <th>1</th>\n      <td>1</td>\n      <td>1qgpa45q</td>\n      <td>f5ae3f66face323615df39d838e056ab5fcc98df</td>\n      <td>PMC</td>\n      <td>Whole genome sequencing and phylogenetic analy...</td>\n      <td>10.1186/s12864-019-6400-z</td>\n      <td>PMC6941262</td>\n      <td>31898474.0</td>\n      <td>cc-by</td>\n      <td>BACKGROUND: Human metapneumovirus (HMPV) is an...</td>\n      <td>...</td>\n      <td>document_parses/pmc_json/PMC6941262.xml.json</td>\n      <td>https://www.ncbi.nlm.nih.gov/pmc/articles/PMC6...</td>\n      <td>NaN</td>\n      <td>34.0</td>\n      <td>Q0</td>\n      <td>1qgpa45q</td>\n      <td>2523.0</td>\n      <td>0.000967</td>\n      <td>reciprocal_rank_fusion_k=60</td>\n      <td>34 36</td>\n    </tr>\n    <tr>\n      <th>2</th>\n      <td>2</td>\n      <td>1qgpa45q</td>\n      <td>f5ae3f66face323615df39d838e056ab5fcc98df</td>\n      <td>PMC</td>\n      <td>Whole genome sequencing and phylogenetic analy...</td>\n      <td>10.1186/s12864-019-6400-z</td>\n      <td>PMC6941262</td>\n      <td>31898474.0</td>\n      <td>cc-by</td>\n      <td>BACKGROUND: Human metapneumovirus (HMPV) is an...</td>\n      <td>...</td>\n      <td>document_parses/pmc_json/PMC6941262.xml.json</td>\n      <td>https://www.ncbi.nlm.nih.gov/pmc/articles/PMC6...</td>\n      <td>NaN</td>\n      <td>36.0</td>\n      <td>Q0</td>\n      <td>1qgpa45q</td>\n      <td>406.0</td>\n      <td>0.005180</td>\n      <td>reciprocal_rank_fusion_k=60</td>\n      <td>34 36</td>\n    </tr>\n    <tr>\n      <th>3</th>\n      <td>3</td>\n      <td>d1pd09zj</td>\n      <td>1cee4a0d0e823379ec34a462a04561bf4cd736a2</td>\n      <td>PMC</td>\n      <td>Synthetic carbohydrate-based vaccines: challen...</td>\n      <td>10.1186/s12929-019-0591-0</td>\n      <td>PMC6941340</td>\n      <td>31900143.0</td>\n      <td>cc-by</td>\n      <td>Glycoconjugate vaccines based on bacterial cap...</td>\n      <td>...</td>\n      <td>document_parses/pmc_json/PMC6941340.xml.json</td>\n      <td>https://www.ncbi.nlm.nih.gov/pmc/articles/PMC6...</td>\n      <td>NaN</td>\n      <td>4.0</td>\n      <td>Q0</td>\n      <td>d1pd09zj</td>\n      <td>1861.0</td>\n      <td>0.001295</td>\n      <td>reciprocal_rank_fusion_k=60</td>\n      <td>4 15 16 24 32</td>\n    </tr>\n    <tr>\n      <th>4</th>\n      <td>4</td>\n      <td>d1pd09zj</td>\n      <td>1cee4a0d0e823379ec34a462a04561bf4cd736a2</td>\n      <td>PMC</td>\n      <td>Synthetic carbohydrate-based vaccines: challen...</td>\n      <td>10.1186/s12929-019-0591-0</td>\n      <td>PMC6941340</td>\n      <td>31900143.0</td>\n      <td>cc-by</td>\n      <td>Glycoconjugate vaccines based on bacterial cap...</td>\n      <td>...</td>\n      <td>document_parses/pmc_json/PMC6941340.xml.json</td>\n      <td>https://www.ncbi.nlm.nih.gov/pmc/articles/PMC6...</td>\n      <td>NaN</td>\n      <td>15.0</td>\n      <td>Q0</td>\n      <td>d1pd09zj</td>\n      <td>2069.0</td>\n      <td>0.001261</td>\n      <td>reciprocal_rank_fusion_k=60</td>\n      <td>4 15 16 24 32</td>\n    </tr>\n  </tbody>\n</table>\n<p>5 rows × 27 columns</p>\n</div>"
     },
     "metadata": {},
     "execution_count": 10
    }
   ],
   "source": [
    "df.head(5)"
   ]
  },
  {
   "cell_type": "code",
   "execution_count": 6,
   "metadata": {},
   "outputs": [
    {
     "output_type": "execute_result",
     "data": {
      "text/plain": "0                              21\n1                           34 36\n2                           34 36\n3                   4 15 16 24 32\n4                   4 15 16 24 32\n                   ...           \n67118    1 2 10 16 18 29 33 37 38\n67119    1 2 10 16 18 29 33 37 38\n67120    1 2 10 16 18 29 33 37 38\n67121    1 2 10 16 18 29 33 37 38\n67122    1 2 10 16 18 29 33 37 38\nName: topicids, Length: 67123, dtype: object"
     },
     "metadata": {},
     "execution_count": 6
    }
   ],
   "source": [
    "df['topicids']"
   ]
  },
  {
   "cell_type": "code",
   "execution_count": null,
   "metadata": {},
   "outputs": [],
   "source": []
  }
 ],
 "metadata": {
  "kernelspec": {
   "display_name": "Python 3",
   "language": "python",
   "name": "python3"
  },
  "language_info": {
   "codemirror_mode": {
    "name": "ipython",
    "version": 3
   },
   "file_extension": ".py",
   "mimetype": "text/x-python",
   "name": "python",
   "nbconvert_exporter": "python",
   "pygments_lexer": "ipython3",
   "version": "3.8.2-final"
  }
 },
 "nbformat": 4,
 "nbformat_minor": 4
}